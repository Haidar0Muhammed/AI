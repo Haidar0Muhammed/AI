{
 "cells": [
  {
   "cell_type": "markdown",
   "id": "db382a50",
   "metadata": {
    "id": "view-in-github",
    "papermill": {
     "duration": 0.00561,
     "end_time": "2022-10-10T09:00:07.839642",
     "exception": false,
     "start_time": "2022-10-10T09:00:07.834032",
     "status": "completed"
    },
    "tags": []
   },
   "source": [
    "<a href=\"https://colab.research.google.com/github/Haidar0Muhammed/AI/blob/main/Titanic.ipynb\" target=\"_parent\"><img src=\"https://colab.research.google.com/assets/colab-badge.svg\" alt=\"Open In Colab\"/></a>"
   ]
  },
  {
   "cell_type": "code",
   "execution_count": 1,
   "id": "89ef7591",
   "metadata": {
    "execution": {
     "iopub.execute_input": "2022-10-10T09:00:07.851376Z",
     "iopub.status.busy": "2022-10-10T09:00:07.850432Z",
     "iopub.status.idle": "2022-10-10T09:00:07.862817Z",
     "shell.execute_reply": "2022-10-10T09:00:07.862038Z"
    },
    "id": "xOaAz22FJ-TI",
    "papermill": {
     "duration": 0.021211,
     "end_time": "2022-10-10T09:00:07.865337",
     "exception": false,
     "start_time": "2022-10-10T09:00:07.844126",
     "status": "completed"
    },
    "tags": []
   },
   "outputs": [],
   "source": [
    "import pandas as pd\n",
    "import numpy as np"
   ]
  },
  {
   "cell_type": "code",
   "execution_count": 2,
   "id": "34b14654",
   "metadata": {
    "execution": {
     "iopub.execute_input": "2022-10-10T09:00:07.876702Z",
     "iopub.status.busy": "2022-10-10T09:00:07.875968Z",
     "iopub.status.idle": "2022-10-10T09:00:07.909198Z",
     "shell.execute_reply": "2022-10-10T09:00:07.908361Z"
    },
    "id": "C-TzIdydRrUi",
    "papermill": {
     "duration": 0.041835,
     "end_time": "2022-10-10T09:00:07.911779",
     "exception": false,
     "start_time": "2022-10-10T09:00:07.869944",
     "status": "completed"
    },
    "tags": []
   },
   "outputs": [],
   "source": [
    "train_data = pd.read_csv('../input/titanic/train.csv')\n",
    "test_data = pd.read_csv('../input/titanic/test.csv')"
   ]
  },
  {
   "cell_type": "code",
   "execution_count": 3,
   "id": "0da9ad5d",
   "metadata": {
    "execution": {
     "iopub.execute_input": "2022-10-10T09:00:07.923093Z",
     "iopub.status.busy": "2022-10-10T09:00:07.922323Z",
     "iopub.status.idle": "2022-10-10T09:00:07.959017Z",
     "shell.execute_reply": "2022-10-10T09:00:07.957659Z"
    },
    "id": "aE_EM36fR4oh",
    "outputId": "5b09c83d-da85-42d1-a8b4-55c2fa637ee5",
    "papermill": {
     "duration": 0.045292,
     "end_time": "2022-10-10T09:00:07.961749",
     "exception": false,
     "start_time": "2022-10-10T09:00:07.916457",
     "status": "completed"
    },
    "tags": []
   },
   "outputs": [
    {
     "data": {
      "text/html": [
       "<div>\n",
       "<style scoped>\n",
       "    .dataframe tbody tr th:only-of-type {\n",
       "        vertical-align: middle;\n",
       "    }\n",
       "\n",
       "    .dataframe tbody tr th {\n",
       "        vertical-align: top;\n",
       "    }\n",
       "\n",
       "    .dataframe thead th {\n",
       "        text-align: right;\n",
       "    }\n",
       "</style>\n",
       "<table border=\"1\" class=\"dataframe\">\n",
       "  <thead>\n",
       "    <tr style=\"text-align: right;\">\n",
       "      <th></th>\n",
       "      <th>PassengerId</th>\n",
       "      <th>Survived</th>\n",
       "      <th>Pclass</th>\n",
       "      <th>Name</th>\n",
       "      <th>Sex</th>\n",
       "      <th>Age</th>\n",
       "      <th>SibSp</th>\n",
       "      <th>Parch</th>\n",
       "      <th>Ticket</th>\n",
       "      <th>Fare</th>\n",
       "      <th>Cabin</th>\n",
       "      <th>Embarked</th>\n",
       "    </tr>\n",
       "  </thead>\n",
       "  <tbody>\n",
       "    <tr>\n",
       "      <th>0</th>\n",
       "      <td>1</td>\n",
       "      <td>0</td>\n",
       "      <td>3</td>\n",
       "      <td>Braund, Mr. Owen Harris</td>\n",
       "      <td>male</td>\n",
       "      <td>22.0</td>\n",
       "      <td>1</td>\n",
       "      <td>0</td>\n",
       "      <td>A/5 21171</td>\n",
       "      <td>7.2500</td>\n",
       "      <td>NaN</td>\n",
       "      <td>S</td>\n",
       "    </tr>\n",
       "    <tr>\n",
       "      <th>1</th>\n",
       "      <td>2</td>\n",
       "      <td>1</td>\n",
       "      <td>1</td>\n",
       "      <td>Cumings, Mrs. John Bradley (Florence Briggs Th...</td>\n",
       "      <td>female</td>\n",
       "      <td>38.0</td>\n",
       "      <td>1</td>\n",
       "      <td>0</td>\n",
       "      <td>PC 17599</td>\n",
       "      <td>71.2833</td>\n",
       "      <td>C85</td>\n",
       "      <td>C</td>\n",
       "    </tr>\n",
       "    <tr>\n",
       "      <th>2</th>\n",
       "      <td>3</td>\n",
       "      <td>1</td>\n",
       "      <td>3</td>\n",
       "      <td>Heikkinen, Miss. Laina</td>\n",
       "      <td>female</td>\n",
       "      <td>26.0</td>\n",
       "      <td>0</td>\n",
       "      <td>0</td>\n",
       "      <td>STON/O2. 3101282</td>\n",
       "      <td>7.9250</td>\n",
       "      <td>NaN</td>\n",
       "      <td>S</td>\n",
       "    </tr>\n",
       "    <tr>\n",
       "      <th>3</th>\n",
       "      <td>4</td>\n",
       "      <td>1</td>\n",
       "      <td>1</td>\n",
       "      <td>Futrelle, Mrs. Jacques Heath (Lily May Peel)</td>\n",
       "      <td>female</td>\n",
       "      <td>35.0</td>\n",
       "      <td>1</td>\n",
       "      <td>0</td>\n",
       "      <td>113803</td>\n",
       "      <td>53.1000</td>\n",
       "      <td>C123</td>\n",
       "      <td>S</td>\n",
       "    </tr>\n",
       "    <tr>\n",
       "      <th>4</th>\n",
       "      <td>5</td>\n",
       "      <td>0</td>\n",
       "      <td>3</td>\n",
       "      <td>Allen, Mr. William Henry</td>\n",
       "      <td>male</td>\n",
       "      <td>35.0</td>\n",
       "      <td>0</td>\n",
       "      <td>0</td>\n",
       "      <td>373450</td>\n",
       "      <td>8.0500</td>\n",
       "      <td>NaN</td>\n",
       "      <td>S</td>\n",
       "    </tr>\n",
       "  </tbody>\n",
       "</table>\n",
       "</div>"
      ],
      "text/plain": [
       "   PassengerId  Survived  Pclass  \\\n",
       "0            1         0       3   \n",
       "1            2         1       1   \n",
       "2            3         1       3   \n",
       "3            4         1       1   \n",
       "4            5         0       3   \n",
       "\n",
       "                                                Name     Sex   Age  SibSp  \\\n",
       "0                            Braund, Mr. Owen Harris    male  22.0      1   \n",
       "1  Cumings, Mrs. John Bradley (Florence Briggs Th...  female  38.0      1   \n",
       "2                             Heikkinen, Miss. Laina  female  26.0      0   \n",
       "3       Futrelle, Mrs. Jacques Heath (Lily May Peel)  female  35.0      1   \n",
       "4                           Allen, Mr. William Henry    male  35.0      0   \n",
       "\n",
       "   Parch            Ticket     Fare Cabin Embarked  \n",
       "0      0         A/5 21171   7.2500   NaN        S  \n",
       "1      0          PC 17599  71.2833   C85        C  \n",
       "2      0  STON/O2. 3101282   7.9250   NaN        S  \n",
       "3      0            113803  53.1000  C123        S  \n",
       "4      0            373450   8.0500   NaN        S  "
      ]
     },
     "execution_count": 3,
     "metadata": {},
     "output_type": "execute_result"
    }
   ],
   "source": [
    "train_data.head()"
   ]
  },
  {
   "cell_type": "code",
   "execution_count": 4,
   "id": "2d2a4228",
   "metadata": {
    "execution": {
     "iopub.execute_input": "2022-10-10T09:00:07.973061Z",
     "iopub.status.busy": "2022-10-10T09:00:07.972630Z",
     "iopub.status.idle": "2022-10-10T09:00:07.990372Z",
     "shell.execute_reply": "2022-10-10T09:00:07.988918Z"
    },
    "id": "kzPKPtuhR6xW",
    "outputId": "77434edc-b0a8-41fe-a67b-9a5ca815783c",
    "papermill": {
     "duration": 0.026312,
     "end_time": "2022-10-10T09:00:07.992875",
     "exception": false,
     "start_time": "2022-10-10T09:00:07.966563",
     "status": "completed"
    },
    "tags": []
   },
   "outputs": [
    {
     "data": {
      "text/html": [
       "<div>\n",
       "<style scoped>\n",
       "    .dataframe tbody tr th:only-of-type {\n",
       "        vertical-align: middle;\n",
       "    }\n",
       "\n",
       "    .dataframe tbody tr th {\n",
       "        vertical-align: top;\n",
       "    }\n",
       "\n",
       "    .dataframe thead th {\n",
       "        text-align: right;\n",
       "    }\n",
       "</style>\n",
       "<table border=\"1\" class=\"dataframe\">\n",
       "  <thead>\n",
       "    <tr style=\"text-align: right;\">\n",
       "      <th></th>\n",
       "      <th>PassengerId</th>\n",
       "      <th>Pclass</th>\n",
       "      <th>Name</th>\n",
       "      <th>Sex</th>\n",
       "      <th>Age</th>\n",
       "      <th>SibSp</th>\n",
       "      <th>Parch</th>\n",
       "      <th>Ticket</th>\n",
       "      <th>Fare</th>\n",
       "      <th>Cabin</th>\n",
       "      <th>Embarked</th>\n",
       "    </tr>\n",
       "  </thead>\n",
       "  <tbody>\n",
       "    <tr>\n",
       "      <th>0</th>\n",
       "      <td>892</td>\n",
       "      <td>3</td>\n",
       "      <td>Kelly, Mr. James</td>\n",
       "      <td>male</td>\n",
       "      <td>34.5</td>\n",
       "      <td>0</td>\n",
       "      <td>0</td>\n",
       "      <td>330911</td>\n",
       "      <td>7.8292</td>\n",
       "      <td>NaN</td>\n",
       "      <td>Q</td>\n",
       "    </tr>\n",
       "    <tr>\n",
       "      <th>1</th>\n",
       "      <td>893</td>\n",
       "      <td>3</td>\n",
       "      <td>Wilkes, Mrs. James (Ellen Needs)</td>\n",
       "      <td>female</td>\n",
       "      <td>47.0</td>\n",
       "      <td>1</td>\n",
       "      <td>0</td>\n",
       "      <td>363272</td>\n",
       "      <td>7.0000</td>\n",
       "      <td>NaN</td>\n",
       "      <td>S</td>\n",
       "    </tr>\n",
       "    <tr>\n",
       "      <th>2</th>\n",
       "      <td>894</td>\n",
       "      <td>2</td>\n",
       "      <td>Myles, Mr. Thomas Francis</td>\n",
       "      <td>male</td>\n",
       "      <td>62.0</td>\n",
       "      <td>0</td>\n",
       "      <td>0</td>\n",
       "      <td>240276</td>\n",
       "      <td>9.6875</td>\n",
       "      <td>NaN</td>\n",
       "      <td>Q</td>\n",
       "    </tr>\n",
       "    <tr>\n",
       "      <th>3</th>\n",
       "      <td>895</td>\n",
       "      <td>3</td>\n",
       "      <td>Wirz, Mr. Albert</td>\n",
       "      <td>male</td>\n",
       "      <td>27.0</td>\n",
       "      <td>0</td>\n",
       "      <td>0</td>\n",
       "      <td>315154</td>\n",
       "      <td>8.6625</td>\n",
       "      <td>NaN</td>\n",
       "      <td>S</td>\n",
       "    </tr>\n",
       "    <tr>\n",
       "      <th>4</th>\n",
       "      <td>896</td>\n",
       "      <td>3</td>\n",
       "      <td>Hirvonen, Mrs. Alexander (Helga E Lindqvist)</td>\n",
       "      <td>female</td>\n",
       "      <td>22.0</td>\n",
       "      <td>1</td>\n",
       "      <td>1</td>\n",
       "      <td>3101298</td>\n",
       "      <td>12.2875</td>\n",
       "      <td>NaN</td>\n",
       "      <td>S</td>\n",
       "    </tr>\n",
       "  </tbody>\n",
       "</table>\n",
       "</div>"
      ],
      "text/plain": [
       "   PassengerId  Pclass                                          Name     Sex  \\\n",
       "0          892       3                              Kelly, Mr. James    male   \n",
       "1          893       3              Wilkes, Mrs. James (Ellen Needs)  female   \n",
       "2          894       2                     Myles, Mr. Thomas Francis    male   \n",
       "3          895       3                              Wirz, Mr. Albert    male   \n",
       "4          896       3  Hirvonen, Mrs. Alexander (Helga E Lindqvist)  female   \n",
       "\n",
       "    Age  SibSp  Parch   Ticket     Fare Cabin Embarked  \n",
       "0  34.5      0      0   330911   7.8292   NaN        Q  \n",
       "1  47.0      1      0   363272   7.0000   NaN        S  \n",
       "2  62.0      0      0   240276   9.6875   NaN        Q  \n",
       "3  27.0      0      0   315154   8.6625   NaN        S  \n",
       "4  22.0      1      1  3101298  12.2875   NaN        S  "
      ]
     },
     "execution_count": 4,
     "metadata": {},
     "output_type": "execute_result"
    }
   ],
   "source": [
    "test_data.head()"
   ]
  },
  {
   "cell_type": "code",
   "execution_count": 5,
   "id": "19381168",
   "metadata": {
    "execution": {
     "iopub.execute_input": "2022-10-10T09:00:08.004885Z",
     "iopub.status.busy": "2022-10-10T09:00:08.004430Z",
     "iopub.status.idle": "2022-10-10T09:00:08.026035Z",
     "shell.execute_reply": "2022-10-10T09:00:08.024453Z"
    },
    "id": "sOcPsXREKFOL",
    "papermill": {
     "duration": 0.030955,
     "end_time": "2022-10-10T09:00:08.028843",
     "exception": false,
     "start_time": "2022-10-10T09:00:07.997888",
     "status": "completed"
    },
    "tags": []
   },
   "outputs": [],
   "source": [
    "\n",
    "\n",
    "train_Survived = pd.DataFrame(train_data['Survived'])\n",
    "train_data = train_data.drop(\n",
    "    ['Embarked','Survived','PassengerId','Ticket','Name'],\n",
    "    axis=1)\n",
    "train_data['total'] = train_data['Parch'] + train_data['SibSp']\n",
    "\n",
    "test_data = test_data.drop(\n",
    "    ['Embarked','PassengerId','Ticket','Name'],\n",
    "    axis=1)\n",
    "test_data['total'] = test_data['Parch'] + test_data['SibSp']\n"
   ]
  },
  {
   "cell_type": "code",
   "execution_count": 6,
   "id": "f4f1af68",
   "metadata": {
    "execution": {
     "iopub.execute_input": "2022-10-10T09:00:08.041791Z",
     "iopub.status.busy": "2022-10-10T09:00:08.041332Z",
     "iopub.status.idle": "2022-10-10T09:00:08.059528Z",
     "shell.execute_reply": "2022-10-10T09:00:08.058458Z"
    },
    "id": "XA_LShuYafj_",
    "papermill": {
     "duration": 0.027656,
     "end_time": "2022-10-10T09:00:08.061895",
     "exception": false,
     "start_time": "2022-10-10T09:00:08.034239",
     "status": "completed"
    },
    "tags": []
   },
   "outputs": [],
   "source": [
    "def Cab(s):\n",
    "  if s is np.NaN:\n",
    "    return 0\n",
    "  else:\n",
    "    return 1\n",
    "\n",
    "def SS(s):\n",
    "  if s == 'male':\n",
    "    return 0\n",
    "  else:\n",
    "    return 1\n",
    "\n",
    "train_data['Sex'] = train_data['Sex'].apply(SS)\n",
    "train_data['Cabin'] = train_data['Cabin'].apply(Cab)\n",
    "train_data['Pclass'] = 1 - (train_data['Pclass'] / 3)\n",
    "\n",
    "Mean_Age = train_data['Age'].mean()\n",
    "train_data['Age'] = train_data.Age.fillna(Mean_Age)\n",
    "\n",
    "\n",
    "#####################\n",
    "\n",
    "\n",
    "test_data['Sex'] = test_data['Sex'].apply(SS)\n",
    "test_data['Cabin'] = test_data['Cabin'].apply(Cab)\n",
    "test_data['Pclass'] = 1 - (test_data['Pclass'] / 3)\n",
    "\n",
    "Mean_Age = test_data['Age'].mean()\n",
    "test_data['Age'] = test_data.Age.fillna(Mean_Age)\n"
   ]
  },
  {
   "cell_type": "code",
   "execution_count": 7,
   "id": "34dbf218",
   "metadata": {
    "execution": {
     "iopub.execute_input": "2022-10-10T09:00:08.074549Z",
     "iopub.status.busy": "2022-10-10T09:00:08.074146Z",
     "iopub.status.idle": "2022-10-10T09:00:09.266909Z",
     "shell.execute_reply": "2022-10-10T09:00:09.265350Z"
    },
    "id": "V18_DarGVGq1",
    "papermill": {
     "duration": 1.202475,
     "end_time": "2022-10-10T09:00:09.269753",
     "exception": false,
     "start_time": "2022-10-10T09:00:08.067278",
     "status": "completed"
    },
    "tags": []
   },
   "outputs": [],
   "source": [
    "from sklearn.preprocessing import minmax_scale\n",
    "train_data = minmax_scale(train_data)\n",
    "train_data = pd.DataFrame(train_data)\n",
    "\n",
    "test_data = minmax_scale(test_data)\n",
    "test_data = pd.DataFrame(test_data)"
   ]
  },
  {
   "cell_type": "code",
   "execution_count": 8,
   "id": "1a5e9f9f",
   "metadata": {
    "execution": {
     "iopub.execute_input": "2022-10-10T09:00:09.282374Z",
     "iopub.status.busy": "2022-10-10T09:00:09.281514Z",
     "iopub.status.idle": "2022-10-10T09:00:09.296682Z",
     "shell.execute_reply": "2022-10-10T09:00:09.295901Z"
    },
    "id": "fwsTfnA1KNM2",
    "outputId": "b3926aea-6983-4049-e5f7-3549b415506b",
    "papermill": {
     "duration": 0.024042,
     "end_time": "2022-10-10T09:00:09.299144",
     "exception": false,
     "start_time": "2022-10-10T09:00:09.275102",
     "status": "completed"
    },
    "tags": []
   },
   "outputs": [
    {
     "data": {
      "text/html": [
       "<div>\n",
       "<style scoped>\n",
       "    .dataframe tbody tr th:only-of-type {\n",
       "        vertical-align: middle;\n",
       "    }\n",
       "\n",
       "    .dataframe tbody tr th {\n",
       "        vertical-align: top;\n",
       "    }\n",
       "\n",
       "    .dataframe thead th {\n",
       "        text-align: right;\n",
       "    }\n",
       "</style>\n",
       "<table border=\"1\" class=\"dataframe\">\n",
       "  <thead>\n",
       "    <tr style=\"text-align: right;\">\n",
       "      <th></th>\n",
       "      <th>0</th>\n",
       "      <th>1</th>\n",
       "      <th>2</th>\n",
       "      <th>3</th>\n",
       "      <th>4</th>\n",
       "      <th>5</th>\n",
       "      <th>6</th>\n",
       "      <th>7</th>\n",
       "    </tr>\n",
       "  </thead>\n",
       "  <tbody>\n",
       "    <tr>\n",
       "      <th>0</th>\n",
       "      <td>0.0</td>\n",
       "      <td>0.0</td>\n",
       "      <td>0.271174</td>\n",
       "      <td>0.125</td>\n",
       "      <td>0.0</td>\n",
       "      <td>0.014151</td>\n",
       "      <td>0.0</td>\n",
       "      <td>0.1</td>\n",
       "    </tr>\n",
       "    <tr>\n",
       "      <th>1</th>\n",
       "      <td>1.0</td>\n",
       "      <td>1.0</td>\n",
       "      <td>0.472229</td>\n",
       "      <td>0.125</td>\n",
       "      <td>0.0</td>\n",
       "      <td>0.139136</td>\n",
       "      <td>1.0</td>\n",
       "      <td>0.1</td>\n",
       "    </tr>\n",
       "    <tr>\n",
       "      <th>2</th>\n",
       "      <td>0.0</td>\n",
       "      <td>1.0</td>\n",
       "      <td>0.321438</td>\n",
       "      <td>0.000</td>\n",
       "      <td>0.0</td>\n",
       "      <td>0.015469</td>\n",
       "      <td>0.0</td>\n",
       "      <td>0.0</td>\n",
       "    </tr>\n",
       "    <tr>\n",
       "      <th>3</th>\n",
       "      <td>1.0</td>\n",
       "      <td>1.0</td>\n",
       "      <td>0.434531</td>\n",
       "      <td>0.125</td>\n",
       "      <td>0.0</td>\n",
       "      <td>0.103644</td>\n",
       "      <td>1.0</td>\n",
       "      <td>0.1</td>\n",
       "    </tr>\n",
       "    <tr>\n",
       "      <th>4</th>\n",
       "      <td>0.0</td>\n",
       "      <td>0.0</td>\n",
       "      <td>0.434531</td>\n",
       "      <td>0.000</td>\n",
       "      <td>0.0</td>\n",
       "      <td>0.015713</td>\n",
       "      <td>0.0</td>\n",
       "      <td>0.0</td>\n",
       "    </tr>\n",
       "  </tbody>\n",
       "</table>\n",
       "</div>"
      ],
      "text/plain": [
       "     0    1         2      3    4         5    6    7\n",
       "0  0.0  0.0  0.271174  0.125  0.0  0.014151  0.0  0.1\n",
       "1  1.0  1.0  0.472229  0.125  0.0  0.139136  1.0  0.1\n",
       "2  0.0  1.0  0.321438  0.000  0.0  0.015469  0.0  0.0\n",
       "3  1.0  1.0  0.434531  0.125  0.0  0.103644  1.0  0.1\n",
       "4  0.0  0.0  0.434531  0.000  0.0  0.015713  0.0  0.0"
      ]
     },
     "execution_count": 8,
     "metadata": {},
     "output_type": "execute_result"
    }
   ],
   "source": [
    "train_data.head()"
   ]
  },
  {
   "cell_type": "code",
   "execution_count": 9,
   "id": "2d829065",
   "metadata": {
    "execution": {
     "iopub.execute_input": "2022-10-10T09:00:09.312476Z",
     "iopub.status.busy": "2022-10-10T09:00:09.311880Z",
     "iopub.status.idle": "2022-10-10T09:00:09.325669Z",
     "shell.execute_reply": "2022-10-10T09:00:09.324891Z"
    },
    "id": "wkgxOvNVTOhI",
    "outputId": "27d3e5b8-d6ef-49ec-a088-c0bd284acafb",
    "papermill": {
     "duration": 0.022812,
     "end_time": "2022-10-10T09:00:09.327794",
     "exception": false,
     "start_time": "2022-10-10T09:00:09.304982",
     "status": "completed"
    },
    "tags": []
   },
   "outputs": [
    {
     "data": {
      "text/html": [
       "<div>\n",
       "<style scoped>\n",
       "    .dataframe tbody tr th:only-of-type {\n",
       "        vertical-align: middle;\n",
       "    }\n",
       "\n",
       "    .dataframe tbody tr th {\n",
       "        vertical-align: top;\n",
       "    }\n",
       "\n",
       "    .dataframe thead th {\n",
       "        text-align: right;\n",
       "    }\n",
       "</style>\n",
       "<table border=\"1\" class=\"dataframe\">\n",
       "  <thead>\n",
       "    <tr style=\"text-align: right;\">\n",
       "      <th></th>\n",
       "      <th>0</th>\n",
       "      <th>1</th>\n",
       "      <th>2</th>\n",
       "      <th>3</th>\n",
       "      <th>4</th>\n",
       "      <th>5</th>\n",
       "      <th>6</th>\n",
       "      <th>7</th>\n",
       "    </tr>\n",
       "  </thead>\n",
       "  <tbody>\n",
       "    <tr>\n",
       "      <th>0</th>\n",
       "      <td>0.0</td>\n",
       "      <td>0.0</td>\n",
       "      <td>0.452723</td>\n",
       "      <td>0.000</td>\n",
       "      <td>0.000000</td>\n",
       "      <td>0.015282</td>\n",
       "      <td>0.0</td>\n",
       "      <td>0.0</td>\n",
       "    </tr>\n",
       "    <tr>\n",
       "      <th>1</th>\n",
       "      <td>0.0</td>\n",
       "      <td>1.0</td>\n",
       "      <td>0.617566</td>\n",
       "      <td>0.125</td>\n",
       "      <td>0.000000</td>\n",
       "      <td>0.013663</td>\n",
       "      <td>0.0</td>\n",
       "      <td>0.1</td>\n",
       "    </tr>\n",
       "    <tr>\n",
       "      <th>2</th>\n",
       "      <td>0.5</td>\n",
       "      <td>0.0</td>\n",
       "      <td>0.815377</td>\n",
       "      <td>0.000</td>\n",
       "      <td>0.000000</td>\n",
       "      <td>0.018909</td>\n",
       "      <td>0.0</td>\n",
       "      <td>0.0</td>\n",
       "    </tr>\n",
       "    <tr>\n",
       "      <th>3</th>\n",
       "      <td>0.0</td>\n",
       "      <td>0.0</td>\n",
       "      <td>0.353818</td>\n",
       "      <td>0.000</td>\n",
       "      <td>0.000000</td>\n",
       "      <td>0.016908</td>\n",
       "      <td>0.0</td>\n",
       "      <td>0.0</td>\n",
       "    </tr>\n",
       "    <tr>\n",
       "      <th>4</th>\n",
       "      <td>0.0</td>\n",
       "      <td>1.0</td>\n",
       "      <td>0.287881</td>\n",
       "      <td>0.125</td>\n",
       "      <td>0.111111</td>\n",
       "      <td>0.023984</td>\n",
       "      <td>0.0</td>\n",
       "      <td>0.2</td>\n",
       "    </tr>\n",
       "  </tbody>\n",
       "</table>\n",
       "</div>"
      ],
      "text/plain": [
       "     0    1         2      3         4         5    6    7\n",
       "0  0.0  0.0  0.452723  0.000  0.000000  0.015282  0.0  0.0\n",
       "1  0.0  1.0  0.617566  0.125  0.000000  0.013663  0.0  0.1\n",
       "2  0.5  0.0  0.815377  0.000  0.000000  0.018909  0.0  0.0\n",
       "3  0.0  0.0  0.353818  0.000  0.000000  0.016908  0.0  0.0\n",
       "4  0.0  1.0  0.287881  0.125  0.111111  0.023984  0.0  0.2"
      ]
     },
     "execution_count": 9,
     "metadata": {},
     "output_type": "execute_result"
    }
   ],
   "source": [
    "test_data.head()"
   ]
  },
  {
   "cell_type": "code",
   "execution_count": 10,
   "id": "af5ed1ba",
   "metadata": {
    "execution": {
     "iopub.execute_input": "2022-10-10T09:00:09.341090Z",
     "iopub.status.busy": "2022-10-10T09:00:09.340516Z",
     "iopub.status.idle": "2022-10-10T09:00:09.416051Z",
     "shell.execute_reply": "2022-10-10T09:00:09.414719Z"
    },
    "id": "vwUs1ya3REPx",
    "papermill": {
     "duration": 0.085276,
     "end_time": "2022-10-10T09:00:09.418777",
     "exception": false,
     "start_time": "2022-10-10T09:00:09.333501",
     "status": "completed"
    },
    "tags": []
   },
   "outputs": [],
   "source": [
    "from sklearn.model_selection import train_test_split\n",
    "Train_X, Test_X, Train_Y, Test_Y = train_test_split(train_data, train_Survived, test_size=0.2, random_state=42)\n"
   ]
  },
  {
   "cell_type": "code",
   "execution_count": 11,
   "id": "1e4b6bb7",
   "metadata": {
    "execution": {
     "iopub.execute_input": "2022-10-10T09:00:09.432611Z",
     "iopub.status.busy": "2022-10-10T09:00:09.431267Z",
     "iopub.status.idle": "2022-10-10T09:00:09.614043Z",
     "shell.execute_reply": "2022-10-10T09:00:09.612694Z"
    },
    "id": "4leLWC2HKOZe",
    "papermill": {
     "duration": 0.192473,
     "end_time": "2022-10-10T09:00:09.616818",
     "exception": false,
     "start_time": "2022-10-10T09:00:09.424345",
     "status": "completed"
    },
    "tags": []
   },
   "outputs": [],
   "source": [
    "from sklearn.tree import DecisionTreeClassifier\n",
    "DT = DecisionTreeClassifier()\n",
    "DT = DT.fit(Train_X, Train_Y)\n",
    "DT_Pred = DT.predict(Test_X)"
   ]
  },
  {
   "cell_type": "code",
   "execution_count": 12,
   "id": "5c9737d6",
   "metadata": {
    "execution": {
     "iopub.execute_input": "2022-10-10T09:00:09.630573Z",
     "iopub.status.busy": "2022-10-10T09:00:09.629174Z",
     "iopub.status.idle": "2022-10-10T09:00:09.647926Z",
     "shell.execute_reply": "2022-10-10T09:00:09.646647Z"
    },
    "id": "Vq8qJ8ooUHS5",
    "outputId": "294ed2cb-69aa-4b03-ff63-7c29925bd884",
    "papermill": {
     "duration": 0.028548,
     "end_time": "2022-10-10T09:00:09.650795",
     "exception": false,
     "start_time": "2022-10-10T09:00:09.622247",
     "status": "completed"
    },
    "tags": []
   },
   "outputs": [
    {
     "name": "stderr",
     "output_type": "stream",
     "text": [
      "/opt/conda/lib/python3.7/site-packages/sklearn/utils/validation.py:993: DataConversionWarning: A column-vector y was passed when a 1d array was expected. Please change the shape of y to (n_samples, ), for example using ravel().\n",
      "  y = column_or_1d(y, warn=True)\n"
     ]
    }
   ],
   "source": [
    "from sklearn.naive_bayes import GaussianNB\n",
    "GNB = GaussianNB()\n",
    "GNB = GNB.fit(Train_X, Train_Y)\n",
    "GNB_Pred = GNB.predict(Test_X)"
   ]
  },
  {
   "cell_type": "code",
   "execution_count": 13,
   "id": "05276059",
   "metadata": {
    "execution": {
     "iopub.execute_input": "2022-10-10T09:00:09.664793Z",
     "iopub.status.busy": "2022-10-10T09:00:09.664292Z",
     "iopub.status.idle": "2022-10-10T09:00:09.673360Z",
     "shell.execute_reply": "2022-10-10T09:00:09.672057Z"
    },
    "id": "L9sLil2fTZ3r",
    "outputId": "f0db687b-bb84-4af6-fe4d-25c8382b1770",
    "papermill": {
     "duration": 0.019601,
     "end_time": "2022-10-10T09:00:09.676601",
     "exception": false,
     "start_time": "2022-10-10T09:00:09.657000",
     "status": "completed"
    },
    "tags": []
   },
   "outputs": [
    {
     "name": "stdout",
     "output_type": "stream",
     "text": [
      "precision:  0.6973684210526315\n",
      "accuracy:   0.7541899441340782\n"
     ]
    }
   ],
   "source": [
    "from sklearn.metrics import accuracy_score, precision_score\n",
    "\n",
    "print('precision: ',precision_score(Test_Y, DT_Pred))\n",
    "print('accuracy:  ',accuracy_score(Test_Y, DT_Pred))"
   ]
  },
  {
   "cell_type": "code",
   "execution_count": 14,
   "id": "15dcda91",
   "metadata": {
    "execution": {
     "iopub.execute_input": "2022-10-10T09:00:09.692133Z",
     "iopub.status.busy": "2022-10-10T09:00:09.690920Z",
     "iopub.status.idle": "2022-10-10T09:00:09.701136Z",
     "shell.execute_reply": "2022-10-10T09:00:09.699138Z"
    },
    "id": "71xt5WHMT72-",
    "outputId": "1135d064-ba01-4e9f-cb46-1381db56190a",
    "papermill": {
     "duration": 0.022038,
     "end_time": "2022-10-10T09:00:09.704559",
     "exception": false,
     "start_time": "2022-10-10T09:00:09.682521",
     "status": "completed"
    },
    "tags": []
   },
   "outputs": [
    {
     "name": "stdout",
     "output_type": "stream",
     "text": [
      "precision1:  0.7058823529411765\n",
      "accuracy:   0.7821229050279329\n"
     ]
    }
   ],
   "source": [
    "print('precision1: ',precision_score(Test_Y, GNB_Pred))\n",
    "print('accuracy:  ',accuracy_score(Test_Y, GNB_Pred))"
   ]
  },
  {
   "cell_type": "code",
   "execution_count": null,
   "id": "aa6f20b0",
   "metadata": {
    "id": "aUdcfhs_YPgA",
    "papermill": {
     "duration": 0.005181,
     "end_time": "2022-10-10T09:00:09.715752",
     "exception": false,
     "start_time": "2022-10-10T09:00:09.710571",
     "status": "completed"
    },
    "tags": []
   },
   "outputs": [],
   "source": []
  }
 ],
 "metadata": {
  "kernelspec": {
   "display_name": "Python 3",
   "language": "python",
   "name": "python3"
  },
  "language_info": {
   "codemirror_mode": {
    "name": "ipython",
    "version": 3
   },
   "file_extension": ".py",
   "mimetype": "text/x-python",
   "name": "python",
   "nbconvert_exporter": "python",
   "pygments_lexer": "ipython3",
   "version": "3.7.12"
  },
  "papermill": {
   "default_parameters": {},
   "duration": 12.303015,
   "end_time": "2022-10-10T09:00:10.744305",
   "environment_variables": {},
   "exception": null,
   "input_path": "__notebook__.ipynb",
   "output_path": "__notebook__.ipynb",
   "parameters": {},
   "start_time": "2022-10-10T08:59:58.441290",
   "version": "2.3.4"
  }
 },
 "nbformat": 4,
 "nbformat_minor": 5
}
